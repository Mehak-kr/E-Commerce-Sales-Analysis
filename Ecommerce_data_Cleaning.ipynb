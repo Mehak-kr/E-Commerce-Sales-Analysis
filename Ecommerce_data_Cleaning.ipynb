{
 "cells": [
  {
   "cell_type": "code",
   "execution_count": 2,
   "id": "dc6e9462-b554-487e-86ed-953be4630631",
   "metadata": {},
   "outputs": [
    {
     "name": "stdout",
     "output_type": "stream",
     "text": [
      "Requirement already satisfied: mysql-connector-python in /opt/anaconda3/lib/python3.13/site-packages (9.4.0)\n",
      "Note: you may need to restart the kernel to use updated packages.\n"
     ]
    }
   ],
   "source": [
    "pip install mysql-connector-python"
   ]
  },
  {
   "cell_type": "code",
   "execution_count": 3,
   "id": "6b7cdc58-dcbf-40cb-bdf3-17ed24917edd",
   "metadata": {},
   "outputs": [],
   "source": [
    "import mysql.connector\n",
    "import pandas as pd\n",
    "import warnings\n",
    "warnings.filterwarnings('ignore')"
   ]
  },
  {
   "cell_type": "code",
   "execution_count": 4,
   "id": "14c7e8e4-a5c9-4af7-8ec9-122ec50824e5",
   "metadata": {},
   "outputs": [],
   "source": [
    "conn=mysql.connector.connect(\n",
    "    host=\"localhost\",\n",
    "    user=\"root\",\n",
    "    password=\"Study@2319\",\n",
    "    database=\"ecommerce\")"
   ]
  },
  {
   "cell_type": "code",
   "execution_count": 5,
   "id": "4aa9cd66-5ebf-4e33-a3a3-92042f7fa60c",
   "metadata": {},
   "outputs": [],
   "source": [
    "basket_df = pd.read_sql(\"select * from basket_details\",conn)\n",
    "customer_df = pd.read_sql(\"select * from customer_details\",conn)"
   ]
  },
  {
   "cell_type": "code",
   "execution_count": 6,
   "id": "660165eb-2154-48d0-96b3-f59e24e1a1c9",
   "metadata": {},
   "outputs": [
    {
     "data": {
      "text/html": [
       "<div>\n",
       "<style scoped>\n",
       "    .dataframe tbody tr th:only-of-type {\n",
       "        vertical-align: middle;\n",
       "    }\n",
       "\n",
       "    .dataframe tbody tr th {\n",
       "        vertical-align: top;\n",
       "    }\n",
       "\n",
       "    .dataframe thead th {\n",
       "        text-align: right;\n",
       "    }\n",
       "</style>\n",
       "<table border=\"1\" class=\"dataframe\">\n",
       "  <thead>\n",
       "    <tr style=\"text-align: right;\">\n",
       "      <th></th>\n",
       "      <th>customer_id</th>\n",
       "      <th>product_id</th>\n",
       "      <th>basket_data</th>\n",
       "      <th>basket_count</th>\n",
       "      <th>basket_id</th>\n",
       "    </tr>\n",
       "  </thead>\n",
       "  <tbody>\n",
       "    <tr>\n",
       "      <th>0</th>\n",
       "      <td>4897641</td>\n",
       "      <td>34525548</td>\n",
       "      <td>2019-06-15</td>\n",
       "      <td>2</td>\n",
       "      <td>15153</td>\n",
       "    </tr>\n",
       "    <tr>\n",
       "      <th>1</th>\n",
       "      <td>11623549</td>\n",
       "      <td>50394038</td>\n",
       "      <td>2019-06-18</td>\n",
       "      <td>2</td>\n",
       "      <td>15850</td>\n",
       "    </tr>\n",
       "    <tr>\n",
       "      <th>2</th>\n",
       "      <td>11665521</td>\n",
       "      <td>41476812</td>\n",
       "      <td>2019-06-15</td>\n",
       "      <td>2</td>\n",
       "      <td>15977</td>\n",
       "    </tr>\n",
       "    <tr>\n",
       "      <th>3</th>\n",
       "      <td>4193819</td>\n",
       "      <td>6455162</td>\n",
       "      <td>2019-06-15</td>\n",
       "      <td>2</td>\n",
       "      <td>15999</td>\n",
       "    </tr>\n",
       "    <tr>\n",
       "      <th>4</th>\n",
       "      <td>1030589</td>\n",
       "      <td>38578121</td>\n",
       "      <td>2019-05-26</td>\n",
       "      <td>2</td>\n",
       "      <td>16190</td>\n",
       "    </tr>\n",
       "  </tbody>\n",
       "</table>\n",
       "</div>"
      ],
      "text/plain": [
       "   customer_id  product_id basket_data  basket_count  basket_id\n",
       "0      4897641    34525548  2019-06-15             2      15153\n",
       "1     11623549    50394038  2019-06-18             2      15850\n",
       "2     11665521    41476812  2019-06-15             2      15977\n",
       "3      4193819     6455162  2019-06-15             2      15999\n",
       "4      1030589    38578121  2019-05-26             2      16190"
      ]
     },
     "execution_count": 6,
     "metadata": {},
     "output_type": "execute_result"
    }
   ],
   "source": [
    "basket_df.head()\n",
    "# customer_df.head()"
   ]
  },
  {
   "cell_type": "code",
   "execution_count": 7,
   "id": "f5d336ce-d703-4e32-b399-dcd42c7d68a4",
   "metadata": {},
   "outputs": [
    {
     "name": "stdout",
     "output_type": "stream",
     "text": [
      "<class 'pandas.core.frame.DataFrame'>\n",
      "RangeIndex: 72 entries, 0 to 71\n",
      "Data columns (total 5 columns):\n",
      " #   Column        Non-Null Count  Dtype \n",
      "---  ------        --------------  ----- \n",
      " 0   customer_id   72 non-null     int64 \n",
      " 1   product_id    72 non-null     int64 \n",
      " 2   basket_data   72 non-null     object\n",
      " 3   basket_count  72 non-null     int64 \n",
      " 4   basket_id     72 non-null     int64 \n",
      "dtypes: int64(4), object(1)\n",
      "memory usage: 2.9+ KB\n"
     ]
    }
   ],
   "source": [
    "basket_df.info()"
   ]
  },
  {
   "cell_type": "code",
   "execution_count": 8,
   "id": "ca154476-c998-4b7d-a2ca-cd26e88b6f8e",
   "metadata": {},
   "outputs": [
    {
     "name": "stdout",
     "output_type": "stream",
     "text": [
      "<class 'pandas.core.frame.DataFrame'>\n",
      "RangeIndex: 19992 entries, 0 to 19991\n",
      "Data columns (total 4 columns):\n",
      " #   Column        Non-Null Count  Dtype \n",
      "---  ------        --------------  ----- \n",
      " 0   customer_id   19992 non-null  int64 \n",
      " 1   sex           19992 non-null  object\n",
      " 2   customer_age  19992 non-null  int64 \n",
      " 3   tenure        19992 non-null  int64 \n",
      "dtypes: int64(3), object(1)\n",
      "memory usage: 624.9+ KB\n"
     ]
    }
   ],
   "source": [
    "customer_df.info()"
   ]
  },
  {
   "cell_type": "code",
   "execution_count": 9,
   "id": "bbaf8075-f455-4a89-aa15-d8ed898dbfe4",
   "metadata": {},
   "outputs": [
    {
     "data": {
      "text/plain": [
       "(72, 5)"
      ]
     },
     "execution_count": 9,
     "metadata": {},
     "output_type": "execute_result"
    }
   ],
   "source": [
    "customer_df.shape\n",
    "basket_df.shape"
   ]
  },
  {
   "cell_type": "code",
   "execution_count": 10,
   "id": "47e88d21-cce4-4f67-a987-2cc2c267d4c1",
   "metadata": {},
   "outputs": [
    {
     "data": {
      "text/plain": [
       "customer_id     0\n",
       "product_id      0\n",
       "basket_data     0\n",
       "basket_count    0\n",
       "basket_id       0\n",
       "dtype: int64"
      ]
     },
     "execution_count": 10,
     "metadata": {},
     "output_type": "execute_result"
    }
   ],
   "source": [
    "customer_df.isnull().sum()\n",
    "basket_df.isnull().sum()"
   ]
  },
  {
   "cell_type": "code",
   "execution_count": 11,
   "id": "923db9df-dc3b-4b46-85b0-ff4f3e636bb2",
   "metadata": {},
   "outputs": [
    {
     "data": {
      "text/plain": [
       "np.int64(0)"
      ]
     },
     "execution_count": 11,
     "metadata": {},
     "output_type": "execute_result"
    }
   ],
   "source": [
    "customer_df.duplicated().sum()\n",
    "basket_df.duplicated().sum()"
   ]
  },
  {
   "cell_type": "code",
   "execution_count": 12,
   "id": "79c01a09-fa6e-41b6-b999-e41c06dfcda2",
   "metadata": {},
   "outputs": [
    {
     "data": {
      "text/plain": [
       "customer_id     64\n",
       "product_id      72\n",
       "basket_data     25\n",
       "basket_count     2\n",
       "basket_id       72\n",
       "dtype: int64"
      ]
     },
     "execution_count": 12,
     "metadata": {},
     "output_type": "execute_result"
    }
   ],
   "source": [
    "customer_df.nunique()\n",
    "basket_df.nunique()"
   ]
  },
  {
   "cell_type": "code",
   "execution_count": 13,
   "id": "2410abb5-653e-43c5-b109-18b620a3ec33",
   "metadata": {},
   "outputs": [
    {
     "data": {
      "text/plain": [
       "0    2019-06-15\n",
       "1    2019-06-18\n",
       "2    2019-06-15\n",
       "3    2019-06-15\n",
       "4    2019-05-26\n",
       "        ...    \n",
       "67   2019-05-24\n",
       "68   2019-05-22\n",
       "69   2019-05-21\n",
       "70   2019-06-01\n",
       "71   2019-05-27\n",
       "Name: basket_data, Length: 72, dtype: datetime64[ns]"
      ]
     },
     "execution_count": 13,
     "metadata": {},
     "output_type": "execute_result"
    }
   ],
   "source": [
    "basket_df['basket_data']=pd.to_datetime(basket_df['basket_data'])\n",
    "basket_df['basket_data']"
   ]
  },
  {
   "cell_type": "code",
   "execution_count": 14,
   "id": "7d2b95ed-815b-4ce9-b028-5a1ff84a1ad8",
   "metadata": {},
   "outputs": [
    {
     "data": {
      "text/plain": [
       "customer_id              int64\n",
       "product_id               int64\n",
       "basket_data     datetime64[ns]\n",
       "basket_count             int64\n",
       "basket_id                int64\n",
       "dtype: object"
      ]
     },
     "execution_count": 14,
     "metadata": {},
     "output_type": "execute_result"
    }
   ],
   "source": [
    "customer_df.dtypes\n",
    "basket_df.dtypes"
   ]
  },
  {
   "cell_type": "code",
   "execution_count": 15,
   "id": "4c3e0ffa-02d7-4f06-80c7-a25aa3895bd9",
   "metadata": {},
   "outputs": [],
   "source": [
    "customer_df.rename(columns={'sex':'gender'},inplace=True)\n",
    "basket_df.rename(columns={'basket_data':'basket_date'},inplace=True)"
   ]
  },
  {
   "cell_type": "code",
   "execution_count": 16,
   "id": "cb5dbfb8-10d5-41d5-a680-3c1ca5c34be4",
   "metadata": {},
   "outputs": [
    {
     "data": {
      "text/html": [
       "<div>\n",
       "<style scoped>\n",
       "    .dataframe tbody tr th:only-of-type {\n",
       "        vertical-align: middle;\n",
       "    }\n",
       "\n",
       "    .dataframe tbody tr th {\n",
       "        vertical-align: top;\n",
       "    }\n",
       "\n",
       "    .dataframe thead th {\n",
       "        text-align: right;\n",
       "    }\n",
       "</style>\n",
       "<table border=\"1\" class=\"dataframe\">\n",
       "  <thead>\n",
       "    <tr style=\"text-align: right;\">\n",
       "      <th></th>\n",
       "      <th>customer_id</th>\n",
       "      <th>product_id</th>\n",
       "      <th>basket_date</th>\n",
       "      <th>basket_count</th>\n",
       "      <th>basket_id</th>\n",
       "    </tr>\n",
       "  </thead>\n",
       "  <tbody>\n",
       "    <tr>\n",
       "      <th>count</th>\n",
       "      <td>7.200000e+01</td>\n",
       "      <td>7.200000e+01</td>\n",
       "      <td>72</td>\n",
       "      <td>72.000000</td>\n",
       "      <td>72.000000</td>\n",
       "    </tr>\n",
       "    <tr>\n",
       "      <th>mean</th>\n",
       "      <td>1.554364e+07</td>\n",
       "      <td>3.140376e+07</td>\n",
       "      <td>2019-05-31 09:20:00</td>\n",
       "      <td>2.152778</td>\n",
       "      <td>22765.972222</td>\n",
       "    </tr>\n",
       "    <tr>\n",
       "      <th>min</th>\n",
       "      <td>3.809750e+05</td>\n",
       "      <td>8.287500e+04</td>\n",
       "      <td>2019-05-20 00:00:00</td>\n",
       "      <td>2.000000</td>\n",
       "      <td>15153.000000</td>\n",
       "    </tr>\n",
       "    <tr>\n",
       "      <th>25%</th>\n",
       "      <td>1.026443e+07</td>\n",
       "      <td>2.980404e+07</td>\n",
       "      <td>2019-05-24 00:00:00</td>\n",
       "      <td>2.000000</td>\n",
       "      <td>18655.750000</td>\n",
       "    </tr>\n",
       "    <tr>\n",
       "      <th>50%</th>\n",
       "      <td>1.352736e+07</td>\n",
       "      <td>3.498005e+07</td>\n",
       "      <td>2019-05-27 00:00:00</td>\n",
       "      <td>2.000000</td>\n",
       "      <td>23618.500000</td>\n",
       "    </tr>\n",
       "    <tr>\n",
       "      <th>75%</th>\n",
       "      <td>2.037478e+07</td>\n",
       "      <td>4.359420e+07</td>\n",
       "      <td>2019-06-09 00:00:00</td>\n",
       "      <td>2.000000</td>\n",
       "      <td>26237.250000</td>\n",
       "    </tr>\n",
       "    <tr>\n",
       "      <th>max</th>\n",
       "      <td>4.328080e+07</td>\n",
       "      <td>5.130767e+07</td>\n",
       "      <td>2019-06-19 00:00:00</td>\n",
       "      <td>3.000000</td>\n",
       "      <td>29895.000000</td>\n",
       "    </tr>\n",
       "    <tr>\n",
       "      <th>std</th>\n",
       "      <td>9.961282e+06</td>\n",
       "      <td>1.616160e+07</td>\n",
       "      <td>NaN</td>\n",
       "      <td>0.362298</td>\n",
       "      <td>4538.042815</td>\n",
       "    </tr>\n",
       "  </tbody>\n",
       "</table>\n",
       "</div>"
      ],
      "text/plain": [
       "        customer_id    product_id          basket_date  basket_count  \\\n",
       "count  7.200000e+01  7.200000e+01                   72     72.000000   \n",
       "mean   1.554364e+07  3.140376e+07  2019-05-31 09:20:00      2.152778   \n",
       "min    3.809750e+05  8.287500e+04  2019-05-20 00:00:00      2.000000   \n",
       "25%    1.026443e+07  2.980404e+07  2019-05-24 00:00:00      2.000000   \n",
       "50%    1.352736e+07  3.498005e+07  2019-05-27 00:00:00      2.000000   \n",
       "75%    2.037478e+07  4.359420e+07  2019-06-09 00:00:00      2.000000   \n",
       "max    4.328080e+07  5.130767e+07  2019-06-19 00:00:00      3.000000   \n",
       "std    9.961282e+06  1.616160e+07                  NaN      0.362298   \n",
       "\n",
       "          basket_id  \n",
       "count     72.000000  \n",
       "mean   22765.972222  \n",
       "min    15153.000000  \n",
       "25%    18655.750000  \n",
       "50%    23618.500000  \n",
       "75%    26237.250000  \n",
       "max    29895.000000  \n",
       "std     4538.042815  "
      ]
     },
     "execution_count": 16,
     "metadata": {},
     "output_type": "execute_result"
    }
   ],
   "source": [
    "customer_df.describe()\n",
    "basket_df.describe()"
   ]
  },
  {
   "cell_type": "code",
   "execution_count": 17,
   "id": "f0adf520-74c3-425d-aa67-81c169289b57",
   "metadata": {},
   "outputs": [
    {
     "data": {
      "text/html": [
       "<div>\n",
       "<style scoped>\n",
       "    .dataframe tbody tr th:only-of-type {\n",
       "        vertical-align: middle;\n",
       "    }\n",
       "\n",
       "    .dataframe tbody tr th {\n",
       "        vertical-align: top;\n",
       "    }\n",
       "\n",
       "    .dataframe thead th {\n",
       "        text-align: right;\n",
       "    }\n",
       "</style>\n",
       "<table border=\"1\" class=\"dataframe\">\n",
       "  <thead>\n",
       "    <tr style=\"text-align: right;\">\n",
       "      <th></th>\n",
       "      <th>customer_id</th>\n",
       "      <th>product_id</th>\n",
       "      <th>basket_date</th>\n",
       "      <th>basket_count</th>\n",
       "      <th>basket_id</th>\n",
       "      <th>gender</th>\n",
       "      <th>customer_age</th>\n",
       "      <th>tenure</th>\n",
       "    </tr>\n",
       "  </thead>\n",
       "  <tbody>\n",
       "    <tr>\n",
       "      <th>0</th>\n",
       "      <td>4897641</td>\n",
       "      <td>34525548</td>\n",
       "      <td>2019-06-15</td>\n",
       "      <td>2</td>\n",
       "      <td>15153</td>\n",
       "      <td>Male</td>\n",
       "      <td>40</td>\n",
       "      <td>114</td>\n",
       "    </tr>\n",
       "    <tr>\n",
       "      <th>1</th>\n",
       "      <td>11623549</td>\n",
       "      <td>50394038</td>\n",
       "      <td>2019-06-18</td>\n",
       "      <td>2</td>\n",
       "      <td>15850</td>\n",
       "      <td>Male</td>\n",
       "      <td>30</td>\n",
       "      <td>63</td>\n",
       "    </tr>\n",
       "    <tr>\n",
       "      <th>2</th>\n",
       "      <td>11665521</td>\n",
       "      <td>41476812</td>\n",
       "      <td>2019-06-15</td>\n",
       "      <td>2</td>\n",
       "      <td>15977</td>\n",
       "      <td>Female</td>\n",
       "      <td>51</td>\n",
       "      <td>62</td>\n",
       "    </tr>\n",
       "    <tr>\n",
       "      <th>3</th>\n",
       "      <td>4193819</td>\n",
       "      <td>6455162</td>\n",
       "      <td>2019-06-15</td>\n",
       "      <td>2</td>\n",
       "      <td>15999</td>\n",
       "      <td>Male</td>\n",
       "      <td>42</td>\n",
       "      <td>117</td>\n",
       "    </tr>\n",
       "    <tr>\n",
       "      <th>4</th>\n",
       "      <td>1030589</td>\n",
       "      <td>38578121</td>\n",
       "      <td>2019-05-26</td>\n",
       "      <td>2</td>\n",
       "      <td>16190</td>\n",
       "      <td>Male</td>\n",
       "      <td>45</td>\n",
       "      <td>127</td>\n",
       "    </tr>\n",
       "    <tr>\n",
       "      <th>...</th>\n",
       "      <td>...</td>\n",
       "      <td>...</td>\n",
       "      <td>...</td>\n",
       "      <td>...</td>\n",
       "      <td>...</td>\n",
       "      <td>...</td>\n",
       "      <td>...</td>\n",
       "      <td>...</td>\n",
       "    </tr>\n",
       "    <tr>\n",
       "      <th>67</th>\n",
       "      <td>15192667</td>\n",
       "      <td>31272089</td>\n",
       "      <td>2019-05-24</td>\n",
       "      <td>2</td>\n",
       "      <td>29183</td>\n",
       "      <td>Male</td>\n",
       "      <td>46</td>\n",
       "      <td>37</td>\n",
       "    </tr>\n",
       "    <tr>\n",
       "      <th>68</th>\n",
       "      <td>22524187</td>\n",
       "      <td>43154303</td>\n",
       "      <td>2019-05-22</td>\n",
       "      <td>2</td>\n",
       "      <td>29279</td>\n",
       "      <td>Male</td>\n",
       "      <td>27</td>\n",
       "      <td>20</td>\n",
       "    </tr>\n",
       "    <tr>\n",
       "      <th>69</th>\n",
       "      <td>14248059</td>\n",
       "      <td>48790153</td>\n",
       "      <td>2019-05-21</td>\n",
       "      <td>2</td>\n",
       "      <td>29327</td>\n",
       "      <td>Male</td>\n",
       "      <td>29</td>\n",
       "      <td>41</td>\n",
       "    </tr>\n",
       "    <tr>\n",
       "      <th>70</th>\n",
       "      <td>10629563</td>\n",
       "      <td>47864502</td>\n",
       "      <td>2019-06-01</td>\n",
       "      <td>2</td>\n",
       "      <td>29416</td>\n",
       "      <td>Male</td>\n",
       "      <td>29</td>\n",
       "      <td>76</td>\n",
       "    </tr>\n",
       "    <tr>\n",
       "      <th>71</th>\n",
       "      <td>11737579</td>\n",
       "      <td>46626448</td>\n",
       "      <td>2019-05-27</td>\n",
       "      <td>2</td>\n",
       "      <td>29895</td>\n",
       "      <td>Male</td>\n",
       "      <td>35</td>\n",
       "      <td>61</td>\n",
       "    </tr>\n",
       "  </tbody>\n",
       "</table>\n",
       "<p>72 rows × 8 columns</p>\n",
       "</div>"
      ],
      "text/plain": [
       "    customer_id  product_id basket_date  basket_count  basket_id  gender  \\\n",
       "0       4897641    34525548  2019-06-15             2      15153    Male   \n",
       "1      11623549    50394038  2019-06-18             2      15850    Male   \n",
       "2      11665521    41476812  2019-06-15             2      15977  Female   \n",
       "3       4193819     6455162  2019-06-15             2      15999    Male   \n",
       "4       1030589    38578121  2019-05-26             2      16190    Male   \n",
       "..          ...         ...         ...           ...        ...     ...   \n",
       "67     15192667    31272089  2019-05-24             2      29183    Male   \n",
       "68     22524187    43154303  2019-05-22             2      29279    Male   \n",
       "69     14248059    48790153  2019-05-21             2      29327    Male   \n",
       "70     10629563    47864502  2019-06-01             2      29416    Male   \n",
       "71     11737579    46626448  2019-05-27             2      29895    Male   \n",
       "\n",
       "    customer_age  tenure  \n",
       "0             40     114  \n",
       "1             30      63  \n",
       "2             51      62  \n",
       "3             42     117  \n",
       "4             45     127  \n",
       "..           ...     ...  \n",
       "67            46      37  \n",
       "68            27      20  \n",
       "69            29      41  \n",
       "70            29      76  \n",
       "71            35      61  \n",
       "\n",
       "[72 rows x 8 columns]"
      ]
     },
     "execution_count": 17,
     "metadata": {},
     "output_type": "execute_result"
    }
   ],
   "source": [
    "merged_df=pd.merge(basket_df,customer_df,on='customer_id',how='inner')\n",
    "merged_df"
   ]
  },
  {
   "cell_type": "code",
   "execution_count": 18,
   "id": "6ecc0194-5a23-4339-8646-f4396fd3f8ff",
   "metadata": {},
   "outputs": [
    {
     "data": {
      "text/plain": [
       "64"
      ]
     },
     "execution_count": 18,
     "metadata": {},
     "output_type": "execute_result"
    }
   ],
   "source": [
    "# Total customers\n",
    "merged_df['customer_id'].nunique()\n"
   ]
  },
  {
   "cell_type": "code",
   "execution_count": 19,
   "id": "8f10810a-cf25-4262-9dfe-76a08f0bb3f2",
   "metadata": {},
   "outputs": [
    {
     "data": {
      "text/plain": [
       "72"
      ]
     },
     "execution_count": 19,
     "metadata": {},
     "output_type": "execute_result"
    }
   ],
   "source": [
    "# Total baskets\n",
    "merged_df['basket_id'].nunique()"
   ]
  },
  {
   "cell_type": "code",
   "execution_count": 20,
   "id": "4eef2141-c266-449f-9ec4-0685d6078926",
   "metadata": {},
   "outputs": [
    {
     "data": {
      "text/plain": [
       "np.int64(155)"
      ]
     },
     "execution_count": 20,
     "metadata": {},
     "output_type": "execute_result"
    }
   ],
   "source": [
    "# Total products sold\n",
    "merged_df['basket_count'].sum()"
   ]
  },
  {
   "cell_type": "code",
   "execution_count": 21,
   "id": "52a363a4-88de-45eb-bb9e-99ec7549118a",
   "metadata": {},
   "outputs": [
    {
     "data": {
      "text/plain": [
       "(Timestamp('2019-05-20 00:00:00'), Timestamp('2019-06-19 00:00:00'))"
      ]
     },
     "execution_count": 21,
     "metadata": {},
     "output_type": "execute_result"
    }
   ],
   "source": [
    "# Time range of orders\n",
    "merged_df['basket_date'].min(),merged_df['basket_date'].max()"
   ]
  },
  {
   "cell_type": "code",
   "execution_count": 22,
   "id": "0bfa6915-f221-4109-8cc1-0c5085aa0a17",
   "metadata": {},
   "outputs": [
    {
     "data": {
      "text/plain": [
       "gender\n",
       "Female     33\n",
       "Male      122\n",
       "Name: basket_count, dtype: int64"
      ]
     },
     "execution_count": 22,
     "metadata": {},
     "output_type": "execute_result"
    }
   ],
   "source": [
    "# Gender-wise total products sold\n",
    "merged_df.groupby('gender')['basket_count'].sum()"
   ]
  },
  {
   "cell_type": "code",
   "execution_count": 23,
   "id": "efb45336-45f8-4719-85c3-32860d3fa6ed",
   "metadata": {},
   "outputs": [
    {
     "data": {
      "text/plain": [
       "customer_age\n",
       "5       2.000000\n",
       "22      2.500000\n",
       "23      2.000000\n",
       "24      2.500000\n",
       "25      2.000000\n",
       "26      2.000000\n",
       "27      2.250000\n",
       "28      2.000000\n",
       "29      2.166667\n",
       "30      2.000000\n",
       "32      2.250000\n",
       "33      2.000000\n",
       "34      2.000000\n",
       "35      2.000000\n",
       "36      2.000000\n",
       "37      2.000000\n",
       "39      2.333333\n",
       "40      2.400000\n",
       "41      2.000000\n",
       "42      2.000000\n",
       "43      2.333333\n",
       "45      2.000000\n",
       "46      2.000000\n",
       "51      2.333333\n",
       "55      3.000000\n",
       "57      2.000000\n",
       "61      2.000000\n",
       "67      2.000000\n",
       "123     2.000000\n",
       "2022    2.000000\n",
       "Name: basket_count, dtype: float64"
      ]
     },
     "execution_count": 23,
     "metadata": {},
     "output_type": "execute_result"
    }
   ],
   "source": [
    "# Average basket count by age\n",
    "merged_df.groupby('customer_age')['basket_count'].mean()"
   ]
  },
  {
   "cell_type": "code",
   "execution_count": 24,
   "id": "46ca57de-afbe-495c-8581-d88f82e89d79",
   "metadata": {},
   "outputs": [
    {
     "data": {
      "text/plain": [
       "month\n",
       "2019-05    43\n",
       "2019-06    29\n",
       "Freq: M, Name: basket_id, dtype: int64"
      ]
     },
     "execution_count": 24,
     "metadata": {},
     "output_type": "execute_result"
    }
   ],
   "source": [
    "# Monthly basket trend\n",
    "merged_df['month']=merged_df['basket_date'].dt.to_period('M')\n",
    "merged_df.groupby('month')['basket_id'].nunique()"
   ]
  },
  {
   "cell_type": "code",
   "execution_count": 25,
   "id": "0bca324b-a542-4ceb-a80c-ab58ae9afe54",
   "metadata": {},
   "outputs": [
    {
     "data": {
      "text/plain": [
       "product_id\n",
       "35058279    3\n",
       "6059073     3\n",
       "38610580    3\n",
       "39329175    3\n",
       "43524799    3\n",
       "35375120    3\n",
       "46373374    3\n",
       "6616058     3\n",
       "35722328    3\n",
       "3213654     3\n",
       "Name: basket_count, dtype: int64"
      ]
     },
     "execution_count": 25,
     "metadata": {},
     "output_type": "execute_result"
    }
   ],
   "source": [
    "# Find which products are most frequently bought:\n",
    "top_products = merged_df.groupby('product_id')['basket_count'].sum().sort_values(ascending=False).head(10)\n",
    "top_products"
   ]
  },
  {
   "cell_type": "code",
   "execution_count": 26,
   "id": "622d990a-c758-4dc7-9e52-df53012f83c2",
   "metadata": {},
   "outputs": [
    {
     "data": {
      "text/plain": [
       "customer_id\n",
       "39814593    5\n",
       "20236456    5\n",
       "12737235    5\n",
       "380975      4\n",
       "27081691    4\n",
       "22524187    4\n",
       "21765975    4\n",
       "537173      4\n",
       "10619833    3\n",
       "34677755    3\n",
       "Name: basket_count, dtype: int64"
      ]
     },
     "execution_count": 26,
     "metadata": {},
     "output_type": "execute_result"
    }
   ],
   "source": [
    "# Find your most active customers:\n",
    "top_customer = merged_df.groupby('customer_id')['basket_count'].sum().sort_values(ascending=False).head(10)\n",
    "top_customer"
   ]
  },
  {
   "cell_type": "code",
   "execution_count": 27,
   "id": "8e303978-43b5-48f8-ae02-159fe0a9e733",
   "metadata": {},
   "outputs": [
    {
     "data": {
      "text/plain": [
       "month\n",
       "2019-05    Axes(0.125,0.11;0.775x0.77)\n",
       "2019-06    Axes(0.125,0.11;0.775x0.77)\n",
       "Freq: M, Name: basket_count, dtype: object"
      ]
     },
     "execution_count": 27,
     "metadata": {},
     "output_type": "execute_result"
    },
    {
     "data": {
      "image/png": "[encoded data removed]",
      "text/plain": [
       "<Figure size 800x400 with 1 Axes>"
      ]
     },
     "metadata": {},
     "output_type": "display_data"
    }
   ],
   "source": [
    "# Monthly Trend\n",
    "# You already added month, so visualize baskets by month:\n",
    "merged_df.groupby('month')['basket_count'].plot(kind='bar',figsize=(8,4))"
   ]
  },
  {
   "cell_type": "code",
   "execution_count": 28,
   "id": "eb7c32ca-9e71-4baf-9e59-63c1485a930f",
   "metadata": {},
   "outputs": [
    {
     "data": {
      "text/plain": [
       "<Axes: xlabel='gender'>"
      ]
     },
     "execution_count": 28,
     "metadata": {},
     "output_type": "execute_result"
    },
    {
     "data": {
      "image/png": "[encoded data removed]",
      "text/plain": [
       "<Figure size 800x400 with 1 Axes>"
      ]
     },
     "metadata": {},
     "output_type": "display_data"
    }
   ],
   "source": [
    "# average baskets by gender\n",
    "merged_df.groupby('gender')['basket_count'].mean().plot(kind='bar',color=['lightpink','skyblue'],figsize=(8,4))"
   ]
  },
  {
   "cell_type": "code",
   "execution_count": 29,
   "id": "7d8ec9be-ed00-4233-9aa7-91e611095767",
   "metadata": {},
   "outputs": [
    {
     "data": {
      "text/plain": [
       "<Axes: xlabel='age_group'>"
      ]
     },
     "execution_count": 29,
     "metadata": {},
     "output_type": "execute_result"
    },
    {
     "data": {
      "image/png": "[encoded data removed]",
      "text/plain": [
       "<Figure size 800x400 with 1 Axes>"
      ]
     },
     "metadata": {},
     "output_type": "display_data"
    }
   ],
   "source": [
    "bins=[0,20,30,40,50,60,100]\n",
    "labels=['<20','20-30','30-40','40-50','50-60','60+']\n",
    "merged_df['age_group'] = pd.cut(merged_df['customer_age'],bins=bins,labels=labels)\n",
    "merged_df['age_group']\n",
    "# which age group buys the most\n",
    "merged_df.groupby('age_group')['basket_count'].sum().plot(kind='bar',figsize=(8,4))"
   ]
  },
  {
   "cell_type": "code",
   "execution_count": 30,
   "id": "4733c5c3-e51d-485c-a2d5-25f6d4862040",
   "metadata": {},
   "outputs": [
    {
     "data": {
      "text/plain": [
       "<Axes: xlabel='tenure_group'>"
      ]
     },
     "execution_count": 30,
     "metadata": {},
     "output_type": "execute_result"
    },
    {
     "data": {
      "image/png": "[encoded data removed]",
      "text/plain": [
       "<Figure size 800x400 with 1 Axes>"
      ]
     },
     "metadata": {},
     "output_type": "display_data"
    }
   ],
   "source": [
    "# Check total baskets by tenure (how long the customer has been with you):\n",
    "bins = [0,1,2,3,4,5,10]\n",
    "lables = ['<1yr','1-2yr','2-3yr','3-4yr','4-5yr','5+yr']\n",
    "merged_df['tenure_group'] = pd.cut(merged_df['tenure'],bins=bins,labels=labels)\n",
    "merged_df.groupby('tenure_group')['basket_count'].sum().plot(kind='bar',figsize=(8,4))"
   ]
  },
  {
   "cell_type": "code",
   "execution_count": 31,
   "id": "d02c0772-c120-47fd-9ca4-91b9f26534e1",
   "metadata": {},
   "outputs": [],
   "source": [
    "# Ecommerce cleaned dataframe download for dashboard\n",
    "merged_df.to_csv('ecommerce_cleaned.csv',index=False)"
   ]
  },
  {
   "cell_type": "code",
   "execution_count": null,
   "id": "f5a8c742-c40c-41e1-bdb2-6d381fa5ef49",
   "metadata": {},
   "outputs": [],
   "source": []
  }
 ],
 "metadata": {
  "kernelspec": {
   "display_name": "Python [conda env:base] *",
   "language": "python",
   "name": "conda-base-py"
  },
  "language_info": {
   "codemirror_mode": {
    "name": "ipython",
    "version": 3
   },
   "file_extension": ".py",
   "mimetype": "text/x-python",
   "name": "python",
   "nbconvert_exporter": "python",
   "pygments_lexer": "ipython3",
   "version": "3.13.5"
  }
 },
 "nbformat": 4,
 "nbformat_minor": 5
}
